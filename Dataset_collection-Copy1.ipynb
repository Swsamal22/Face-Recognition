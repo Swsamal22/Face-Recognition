{
 "cells": [
  {
   "cell_type": "markdown",
   "id": "12e72b2d",
   "metadata": {},
   "source": [
    "## Collect images for face recognition"
   ]
  },
  {
   "cell_type": "code",
   "execution_count": 11,
   "id": "8f463d28",
   "metadata": {},
   "outputs": [
    {
     "name": "stderr",
     "output_type": "stream",
     "text": [
      "<>:10: SyntaxWarning: \"is\" with a literal. Did you mean \"==\"?\n",
      "<>:10: SyntaxWarning: \"is\" with a literal. Did you mean \"==\"?\n",
      "C:\\Users\\asus\\AppData\\Local\\Temp\\ipykernel_8412\\3475494665.py:10: SyntaxWarning: \"is\" with a literal. Did you mean \"==\"?\n",
      "  if faces is ():\n"
     ]
    },
    {
     "name": "stdout",
     "output_type": "stream",
     "text": [
      "Collecting samples is completed !!!\n"
     ]
    }
   ],
   "source": [
    "import cv2\n",
    "import numpy as np\n",
    "\n",
    "def generate_dataset():\n",
    "    face_classifier = cv2.CascadeClassifier(\"haarcascade_frontalface_default.xml\")\n",
    "    def face_cropped(img):\n",
    "#         gray = cv2.cvtColor(img, cv2.COLOR_BGR2GRAY)\n",
    "        faces = face_classifier.detectMultiScale(img, 1.3, 4)\n",
    "        \n",
    "        if faces is ():\n",
    "            return None\n",
    "        for (x,y,w,h) in faces:\n",
    "            cropped_face = img[y:y+h,x:x+w]\n",
    "        return cropped_face\n",
    "    \n",
    "    cap = cv2.VideoCapture(0)\n",
    "    img_id = 0\n",
    "    \n",
    "    while True:\n",
    "        ret, frame = cap.read()\n",
    "        if face_cropped(frame) is not None:\n",
    "            img_id+=1\n",
    "            face = cv2.resize(face_cropped(frame), (400, 400))\n",
    "#             face = cv2.cvtColor(face, cv2.COLOR_BGR2GRAY)\n",
    "            #file_name_path = \"data/\"+\"Ishwar.\"+str(img_id)+\".jpg\"\n",
    "            file_name_path = \"data/\"+\"ARIJIT\"+str(img_id)+'.jpg'\n",
    "            cv2.imwrite(file_name_path, face)\n",
    "            cv2.putText(face, str(img_id), (50,50), cv2.FONT_HERSHEY_COMPLEX, 1, (0,255,0), 2 )\n",
    "            \n",
    "            cv2.imshow(\"Cropped_Face\", face)\n",
    "            if cv2.waitKey(1)==13 or int(img_id)==300:\n",
    "                break\n",
    "                \n",
    "    cap.release()\n",
    "    cv2.destroyAllWindows()\n",
    "    print(\"Collecting samples is completed !!!\")\n",
    "generate_dataset()"
   ]
  },
  {
   "cell_type": "markdown",
   "id": "2cb6d21b",
   "metadata": {},
   "source": [
    "### data AUGMNTATION ON IMAGES"
   ]
  },
  {
   "cell_type": "code",
   "execution_count": 10,
   "id": "2117a2c6",
   "metadata": {},
   "outputs": [
    {
     "name": "stdout",
     "output_type": "stream",
     "text": [
      "Found 40 images belonging to 1 classes.\n"
     ]
    }
   ],
   "source": [
    "from keras.preprocessing.image import ImageDataGenerator\n",
    "import cv2\n",
    "import os\n",
    "import glob\n",
    "\n",
    "datagen = ImageDataGenerator(rotation_range=40,\n",
    "                            height_shift_range=0.2,\n",
    "                            width_shift_range=0.2,\n",
    "                             rescale=1./255,\n",
    "                            shear_range=0.2,\n",
    "                            zoom_range=0.2,\n",
    "                            horizontal_flip=True,\n",
    "                            fill_mode='nearest',\n",
    "                            data_format='channels_last',\n",
    "                            brightness_range=[0.5,1.5])\n",
    "i=0\n",
    "for batch in datagen.flow_from_directory(r'C:\\Users\\asus\\OneDrive\\Desktop\\SWAPNADEEP\\project folder\\DATASET\\train_data',\n",
    "                                        batch_size=40,\n",
    "                                        target_size=(256,256),\n",
    "                                        save_to_dir=r'C:\\Users\\asus\\OneDrive\\Desktop\\SWAPNADEEP\\project folder\\DATASET\\train_data\\SUMANJIT',\n",
    "                                        save_format='jpg'):\n",
    "    i+=1\n",
    "    if i>10:\n",
    "        break"
   ]
  },
  {
   "cell_type": "code",
   "execution_count": null,
   "id": "a731065c",
   "metadata": {},
   "outputs": [],
   "source": []
  }
 ],
 "metadata": {
  "kernelspec": {
   "display_name": "Python 3 (ipykernel)",
   "language": "python",
   "name": "python3"
  },
  "language_info": {
   "codemirror_mode": {
    "name": "ipython",
    "version": 3
   },
   "file_extension": ".py",
   "mimetype": "text/x-python",
   "name": "python",
   "nbconvert_exporter": "python",
   "pygments_lexer": "ipython3",
   "version": "3.9.12"
  }
 },
 "nbformat": 4,
 "nbformat_minor": 5
}

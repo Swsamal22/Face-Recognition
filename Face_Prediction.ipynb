{
 "cells": [
  {
   "cell_type": "markdown",
   "id": "e71d3777",
   "metadata": {},
   "source": [
    "### MODEL PREDICTION"
   ]
  },
  {
   "cell_type": "code",
   "execution_count": 4,
   "id": "b2a90c44",
   "metadata": {},
   "outputs": [
    {
     "name": "stdout",
     "output_type": "stream",
     "text": [
      "{0: 'ABHISEK', 1: 'ARIJIT', 2: 'BISWAJEET', 3: 'KALIA', 4: 'NISHAN', 5: 'SACHIN', 6: 'SAMEER', 7: 'SUMANJIT', 8: 'SWAPNADEEP'}\n"
     ]
    },
    {
     "ename": "FileNotFoundError",
     "evalue": "[Errno 2] No such file or directory: './project folder/face_recognition_model.json'",
     "output_type": "error",
     "traceback": [
      "\u001b[1;31m---------------------------------------------------------------------------\u001b[0m",
      "\u001b[1;31mFileNotFoundError\u001b[0m                         Traceback (most recent call last)",
      "Input \u001b[1;32mIn [4]\u001b[0m, in \u001b[0;36m<cell line: 21>\u001b[1;34m()\u001b[0m\n\u001b[0;32m     10\u001b[0m result \u001b[38;5;241m=\u001b[39m {\u001b[38;5;241m0\u001b[39m: \u001b[38;5;124m'\u001b[39m\u001b[38;5;124mABHISEK\u001b[39m\u001b[38;5;124m'\u001b[39m,\n\u001b[0;32m     11\u001b[0m  \u001b[38;5;241m1\u001b[39m: \u001b[38;5;124m'\u001b[39m\u001b[38;5;124mARIJIT\u001b[39m\u001b[38;5;124m'\u001b[39m,\n\u001b[0;32m     12\u001b[0m  \u001b[38;5;241m2\u001b[39m: \u001b[38;5;124m'\u001b[39m\u001b[38;5;124mBISWAJEET\u001b[39m\u001b[38;5;124m'\u001b[39m,\n\u001b[1;32m   (...)\u001b[0m\n\u001b[0;32m     17\u001b[0m  \u001b[38;5;241m7\u001b[39m: \u001b[38;5;124m'\u001b[39m\u001b[38;5;124mSUMANJIT\u001b[39m\u001b[38;5;124m'\u001b[39m,\n\u001b[0;32m     18\u001b[0m  \u001b[38;5;241m8\u001b[39m: \u001b[38;5;124m'\u001b[39m\u001b[38;5;124mSWAPNADEEP\u001b[39m\u001b[38;5;124m'\u001b[39m}\n\u001b[0;32m     19\u001b[0m \u001b[38;5;28mprint\u001b[39m(result)\n\u001b[1;32m---> 21\u001b[0m model \u001b[38;5;241m=\u001b[39m model_from_json(\u001b[38;5;28;43mopen\u001b[39;49m\u001b[43m(\u001b[49m\u001b[38;5;124;43m'\u001b[39;49m\u001b[38;5;124;43m./project folder/face_recognition_model.json\u001b[39;49m\u001b[38;5;124;43m'\u001b[39;49m\u001b[43m,\u001b[49m\u001b[43m \u001b[49m\u001b[38;5;124;43m'\u001b[39;49m\u001b[38;5;124;43mr\u001b[39;49m\u001b[38;5;124;43m'\u001b[39;49m\u001b[43m)\u001b[49m\u001b[38;5;241m.\u001b[39mread())\n\u001b[0;32m     22\u001b[0m model\u001b[38;5;241m.\u001b[39mload_weights(\u001b[38;5;124m\"\u001b[39m\u001b[38;5;124m./project folder/face_recognition_model.h5\u001b[39m\u001b[38;5;124m\"\u001b[39m)\n\u001b[0;32m     23\u001b[0m \u001b[38;5;28mprint\u001b[39m(\u001b[38;5;124m\"\u001b[39m\u001b[38;5;124mLoaded model from disk\u001b[39m\u001b[38;5;124m\"\u001b[39m)\n",
      "\u001b[1;31mFileNotFoundError\u001b[0m: [Errno 2] No such file or directory: './project folder/face_recognition_model.json'"
     ]
    }
   ],
   "source": [
    "from keras.models import load_model, model_from_json\n",
    "from time import sleep\n",
    "from tensorflow.keras.utils import img_to_array\n",
    "from tensorflow.keras.preprocessing import image\n",
    "import cv2\n",
    "import numpy as np\n",
    "\n",
    "face_classifier = cv2.CascadeClassifier('haarcascade_frontalface_default.xml')\n",
    "\n",
    "result = {0: 'ABHISEK',\n",
    " 1: 'ARIJIT',\n",
    " 2: 'BISWAJEET',\n",
    " 3: 'KALIA',\n",
    " 4: 'NISHAN',\n",
    " 5: 'SACHIN',\n",
    " 6: 'SAMEER',\n",
    " 7: 'SUMANJIT',\n",
    " 8: 'SWAPNADEEP'}\n",
    "print(result)\n",
    "\n",
    "model = model_from_json(open('./project folder/face_recognition_model.json', 'r').read())\n",
    "model.load_weights(\"./project folder/face_recognition_model.h5\")\n",
    "print(\"Loaded model from disk\")\n",
    "\n",
    "cap = cv2.VideoCapture(0)\n",
    "\n",
    "while True:\n",
    "    ret, frame = cap.read()\n",
    "    if not ret:\n",
    "        continue\n",
    "    faces = face_classifier.detectMultiScale(frame, 1.3, 5)\n",
    "    \n",
    "    for (x,y,w,h) in faces:\n",
    "        cv2.rectangle(frame,(x,y),(x+w,y+h),(0,255,0),2)\n",
    "        face = frame[y:y+h,x:x+w]\n",
    "        face = cv2.resize(face, (64,64))\n",
    "        faces = img_to_array(face)\n",
    "        faces = np.expand_dims(faces, axis=0)\n",
    "        print(faces)\n",
    "            \n",
    "        prediction = model.predict(faces, verbose=1)\n",
    "            \n",
    "        label = result[np.argmax(prediction)]\n",
    "        label_position = (x,y)\n",
    "        cv2.putText(frame, label, label_position, cv2.FONT_HERSHEY_SIMPLEX, 1, (0, 255,0), 2)\n",
    "#     else:\n",
    "#         cv2.putText(frame,'No Data',(30,80), cv2.FONT_HERSHEY_SIMPLEX,1,(0,255,0),2)\n",
    "    \n",
    "    \n",
    "    resized_img = cv2.resize(frame, (400,400))\n",
    "    cv2.imshow('Face Recogniser', frame)\n",
    "    if cv2.waitKey(1) & 0xFF == ord('x'):\n",
    "        break\n",
    "\n",
    "cap.release()\n",
    "cv2.destroyAllWindows()"
   ]
  }
 ],
 "metadata": {
  "kernelspec": {
   "display_name": "Python 3 (ipykernel)",
   "language": "python",
   "name": "python3"
  },
  "language_info": {
   "codemirror_mode": {
    "name": "ipython",
    "version": 3
   },
   "file_extension": ".py",
   "mimetype": "text/x-python",
   "name": "python",
   "nbconvert_exporter": "python",
   "pygments_lexer": "ipython3",
   "version": "3.9.12"
  }
 },
 "nbformat": 4,
 "nbformat_minor": 5
}

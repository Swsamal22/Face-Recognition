{
 "cells": [
  {
   "cell_type": "code",
   "execution_count": 1,
   "id": "40e7e3e9",
   "metadata": {},
   "outputs": [],
   "source": [
    "import numpy as np\n",
    "import keras\n",
    "import tensorflow as tf\n",
    "import pandas as pd"
   ]
  },
  {
   "cell_type": "markdown",
   "id": "ef348a0d",
   "metadata": {},
   "source": [
    "## GETTING IMAGES FROM THE PATH FOR THE CASE STUDY"
   ]
  },
  {
   "cell_type": "code",
   "execution_count": 2,
   "id": "82a11dab",
   "metadata": {},
   "outputs": [
    {
     "name": "stdout",
     "output_type": "stream",
     "text": [
      "Found 244 images belonging to 16 classes.\n",
      "Found 244 images belonging to 16 classes.\n"
     ]
    }
   ],
   "source": [
    "TrainingImagePath='./Dataset/Face-Images/Face Images/Final Training Images'\n",
    "\n",
    "from keras.preprocessing.image import ImageDataGenerator\n",
    "train_datagen = ImageDataGenerator(\n",
    "        shear_range=0.1,\n",
    "        zoom_range=0.1,\n",
    "        horizontal_flip=True)\n",
    "\n",
    "test_datagen = ImageDataGenerator()\n",
    "\n",
    "training_set = train_datagen.flow_from_directory(\n",
    "        TrainingImagePath,\n",
    "        target_size=(64, 64),\n",
    "        batch_size=32,\n",
    "        class_mode='categorical')\n",
    "\n",
    "test_set = test_datagen.flow_from_directory(\n",
    "        TrainingImagePath,\n",
    "        target_size=(64, 64),\n",
    "        batch_size=32,\n",
    "        class_mode='categorical')\n",
    "\n",
    "# test_set.class_indices"
   ]
  },
  {
   "cell_type": "markdown",
   "id": "62fbd90a",
   "metadata": {},
   "source": [
    "## CREATING A MAPPING FOR THE FACE NUMBERS AND INDEXES"
   ]
  },
  {
   "cell_type": "code",
   "execution_count": 3,
   "id": "09402afd",
   "metadata": {},
   "outputs": [
    {
     "name": "stdout",
     "output_type": "stream",
     "text": [
      "Mapping of Face and its ID {0: 'face1', 1: 'face10', 2: 'face11', 3: 'face12', 4: 'face13', 5: 'face14', 6: 'face15', 7: 'face16', 8: 'face2', 9: 'face3', 10: 'face4', 11: 'face5', 12: 'face6', 13: 'face7', 14: 'face8', 15: 'face9'}\n",
      "\n",
      " The Number of output neurons:  16\n"
     ]
    }
   ],
   "source": [
    "TrainClasses=training_set.class_indices\n",
    "\n",
    "ResultMap={}\n",
    "for faceValue,faceName in zip(TrainClasses.values(),TrainClasses.keys()):\n",
    "    ResultMap[faceValue]=faceName\n",
    "\n",
    "import pickle\n",
    "with open(\"ResultsMap.pkl\", 'wb') as fileWriteStream:\n",
    "    pickle.dump(ResultMap, fileWriteStream)\n",
    "\n",
    "print(\"Mapping of Face and its ID\",ResultMap)\n",
    "\n",
    "OutputNeurons=len(ResultMap)\n",
    "print('\\n The Number of output neurons: ', OutputNeurons)"
   ]
  },
  {
   "cell_type": "markdown",
   "id": "4bff8c52",
   "metadata": {},
   "source": [
    "## CREATING THE CNN FACE RECOGNITION MODEL"
   ]
  },
  {
   "cell_type": "code",
   "execution_count": 4,
   "id": "5d8fe8ea",
   "metadata": {},
   "outputs": [
    {
     "name": "stdout",
     "output_type": "stream",
     "text": [
      "Epoch 1/50\n",
      "8/8 [==============================] - ETA: 0s - loss: 16.2266 - accuracy: 0.0451WARNING:tensorflow:Your input ran out of data; interrupting training. Make sure that your dataset or generator can generate at least `steps_per_epoch * epochs` batches (in this case, 10 batches). You may need to use the repeat() function when building your dataset.\n",
      "8/8 [==============================] - 6s 631ms/step - loss: 16.2266 - accuracy: 0.0451 - val_loss: 5.9860 - val_accuracy: 0.0328\n",
      "Epoch 2/50\n",
      "8/8 [==============================] - 1s 146ms/step - loss: 4.2947 - accuracy: 0.0574\n",
      "Epoch 3/50\n",
      "8/8 [==============================] - 1s 164ms/step - loss: 2.6531 - accuracy: 0.1721\n",
      "Epoch 4/50\n",
      "8/8 [==============================] - 1s 147ms/step - loss: 2.4802 - accuracy: 0.2008\n",
      "Epoch 5/50\n",
      "8/8 [==============================] - 1s 141ms/step - loss: 2.1113 - accuracy: 0.3443\n",
      "Epoch 6/50\n",
      "8/8 [==============================] - 1s 148ms/step - loss: 1.6448 - accuracy: 0.4795\n",
      "Epoch 7/50\n",
      "8/8 [==============================] - 1s 156ms/step - loss: 1.3246 - accuracy: 0.5697\n",
      "Epoch 8/50\n",
      "8/8 [==============================] - 1s 136ms/step - loss: 1.0812 - accuracy: 0.6270\n",
      "Epoch 9/50\n",
      "8/8 [==============================] - 1s 144ms/step - loss: 0.7980 - accuracy: 0.7869\n",
      "Epoch 10/50\n",
      "8/8 [==============================] - 1s 133ms/step - loss: 0.6393 - accuracy: 0.7951\n",
      "Epoch 11/50\n",
      "8/8 [==============================] - 1s 145ms/step - loss: 0.5027 - accuracy: 0.8279\n",
      "Epoch 12/50\n",
      "8/8 [==============================] - 1s 132ms/step - loss: 0.4176 - accuracy: 0.8607\n",
      "Epoch 13/50\n",
      "8/8 [==============================] - 1s 151ms/step - loss: 0.3582 - accuracy: 0.9057\n",
      "Epoch 14/50\n",
      "8/8 [==============================] - 1s 149ms/step - loss: 0.2772 - accuracy: 0.9180\n",
      "Epoch 15/50\n",
      "8/8 [==============================] - 1s 147ms/step - loss: 0.2894 - accuracy: 0.9139\n",
      "Epoch 16/50\n",
      "8/8 [==============================] - 1s 152ms/step - loss: 0.3131 - accuracy: 0.9098\n",
      "Epoch 17/50\n",
      "8/8 [==============================] - 1s 140ms/step - loss: 0.2402 - accuracy: 0.9057\n",
      "Epoch 18/50\n",
      "8/8 [==============================] - 1s 131ms/step - loss: 0.1633 - accuracy: 0.9549\n",
      "Epoch 19/50\n",
      "8/8 [==============================] - 1s 137ms/step - loss: 0.1845 - accuracy: 0.9508\n",
      "Epoch 20/50\n",
      "8/8 [==============================] - 1s 130ms/step - loss: 0.1793 - accuracy: 0.9303\n",
      "Epoch 21/50\n",
      "8/8 [==============================] - 1s 156ms/step - loss: 0.1244 - accuracy: 0.9672\n",
      "Epoch 22/50\n",
      "8/8 [==============================] - 1s 158ms/step - loss: 0.1089 - accuracy: 0.9754\n",
      "Epoch 23/50\n",
      "8/8 [==============================] - 2s 198ms/step - loss: 0.0801 - accuracy: 0.9795\n",
      "Epoch 24/50\n",
      "8/8 [==============================] - 1s 143ms/step - loss: 0.0793 - accuracy: 0.9795\n",
      "Epoch 25/50\n",
      "8/8 [==============================] - 1s 130ms/step - loss: 0.1197 - accuracy: 0.9631\n",
      "Epoch 26/50\n",
      "8/8 [==============================] - 1s 136ms/step - loss: 0.1328 - accuracy: 0.9713\n",
      "Epoch 27/50\n",
      "8/8 [==============================] - 1s 124ms/step - loss: 0.0809 - accuracy: 0.9836\n",
      "Epoch 28/50\n",
      "8/8 [==============================] - 1s 120ms/step - loss: 0.0987 - accuracy: 0.9754\n",
      "Epoch 29/50\n",
      "8/8 [==============================] - 1s 127ms/step - loss: 0.0351 - accuracy: 0.9918\n",
      "Epoch 30/50\n",
      "8/8 [==============================] - 1s 124ms/step - loss: 0.0611 - accuracy: 0.9918\n",
      "Epoch 31/50\n",
      "8/8 [==============================] - 1s 134ms/step - loss: 0.0347 - accuracy: 0.9918\n",
      "Epoch 32/50\n",
      "8/8 [==============================] - 1s 132ms/step - loss: 0.0596 - accuracy: 0.9836\n",
      "Epoch 33/50\n",
      "8/8 [==============================] - 1s 150ms/step - loss: 0.0366 - accuracy: 0.9918\n",
      "Epoch 34/50\n",
      "8/8 [==============================] - 1s 132ms/step - loss: 0.0427 - accuracy: 0.9918\n",
      "Epoch 35/50\n",
      "8/8 [==============================] - 1s 143ms/step - loss: 0.0362 - accuracy: 0.9918\n",
      "Epoch 36/50\n",
      "8/8 [==============================] - 1s 169ms/step - loss: 0.0459 - accuracy: 0.9877\n",
      "Epoch 37/50\n",
      "8/8 [==============================] - 1s 143ms/step - loss: 0.0568 - accuracy: 0.9836\n",
      "Epoch 38/50\n",
      "8/8 [==============================] - 1s 148ms/step - loss: 0.0302 - accuracy: 0.9877\n",
      "Epoch 39/50\n",
      "8/8 [==============================] - 1s 172ms/step - loss: 0.0507 - accuracy: 0.9754\n",
      "Epoch 40/50\n",
      "8/8 [==============================] - 1s 142ms/step - loss: 0.0379 - accuracy: 0.9918\n",
      "Epoch 41/50\n",
      "8/8 [==============================] - 1s 145ms/step - loss: 0.0608 - accuracy: 0.9877\n",
      "Epoch 42/50\n",
      "8/8 [==============================] - 1s 134ms/step - loss: 0.0928 - accuracy: 0.9795\n",
      "Epoch 43/50\n",
      "8/8 [==============================] - 1s 120ms/step - loss: 0.0409 - accuracy: 0.9918\n",
      "Epoch 44/50\n",
      "8/8 [==============================] - 1s 127ms/step - loss: 0.0346 - accuracy: 0.9959\n",
      "Epoch 45/50\n",
      "8/8 [==============================] - 1s 133ms/step - loss: 0.1055 - accuracy: 0.9590\n",
      "Epoch 46/50\n",
      "8/8 [==============================] - 1s 126ms/step - loss: 0.0433 - accuracy: 0.9877\n",
      "Epoch 47/50\n",
      "8/8 [==============================] - 1s 127ms/step - loss: 0.0538 - accuracy: 0.9795\n",
      "Epoch 48/50\n",
      "8/8 [==============================] - 1s 131ms/step - loss: 0.0513 - accuracy: 0.9836\n",
      "Epoch 49/50\n",
      "8/8 [==============================] - 1s 123ms/step - loss: 0.0434 - accuracy: 0.9836\n",
      "Epoch 50/50\n",
      "8/8 [==============================] - 1s 129ms/step - loss: 0.0578 - accuracy: 0.9836\n",
      "###### Total Time Taken:  1 Minutes ######\n"
     ]
    }
   ],
   "source": [
    "from keras.models import Sequential\n",
    "from keras.layers import Convolution2D\n",
    "from keras.layers import MaxPool2D\n",
    "from keras.layers import Flatten\n",
    "from keras.layers import Dense\n",
    "classifier= Sequential()\n",
    "''' STEP--1 Convolution\n",
    "# Adding the first layer of CNN\n",
    "# we are using the format (64,64,3) because we are using TensorFlow backend\n",
    "# It means 3 matrix of size (64X64) pixels representing Red, Green and Blue components of pixels\n",
    "'''\n",
    "classifier.add(Convolution2D(32, kernel_size=(5, 5), strides=(3, 3), input_shape=(64,64,3), activation='relu'))\n",
    "'''# STEP--2 MAX Pooling'''\n",
    "classifier.add(MaxPool2D(pool_size=(2,2)))\n",
    "'''############## ADDITIONAL LAYER of CONVOLUTION for better accuracy #################'''\n",
    "classifier.add(Convolution2D(64, kernel_size=(5, 5), strides=(3, 3), activation='relu'))\n",
    "classifier.add(MaxPool2D(pool_size=(2,2)))\n",
    "'''# STEP--3 FLattening'''\n",
    "classifier.add(Flatten())\n",
    "'''# STEP--4 Fully Connected Neural Network'''\n",
    "classifier.add(Dense(128, activation='relu'))\n",
    "classifier.add(Dense(OutputNeurons, activation='softmax'))\n",
    "'''# Compiling the CNN'''\n",
    "#classifier.compile(loss='binary_crossentropy', optimizer='adam', metrics=['accuracy'])\n",
    "classifier.compile(loss='categorical_crossentropy', optimizer = 'adam', metrics=[\"accuracy\"])\n",
    "###########################################################\n",
    "import time\n",
    "StartTime=time.time()\n",
    "# Starting the model training\n",
    "classifier.fit(training_set,\n",
    "               steps_per_epoch=8,\n",
    "               epochs=50,\n",
    "               validation_data=test_set,\n",
    "               validation_steps=10)\n",
    "EndTime=time.time()\n",
    "print(\"###### Total Time Taken: \", round((EndTime-StartTime)/60), 'Minutes ######')"
   ]
  },
  {
   "cell_type": "code",
   "execution_count": null,
   "id": "0f9932ec",
   "metadata": {},
   "outputs": [],
   "source": []
  }
 ],
 "metadata": {
  "kernelspec": {
   "display_name": "Python 3 (ipykernel)",
   "language": "python",
   "name": "python3"
  },
  "language_info": {
   "codemirror_mode": {
    "name": "ipython",
    "version": 3
   },
   "file_extension": ".py",
   "mimetype": "text/x-python",
   "name": "python",
   "nbconvert_exporter": "python",
   "pygments_lexer": "ipython3",
   "version": "3.9.12"
  }
 },
 "nbformat": 4,
 "nbformat_minor": 5
}
